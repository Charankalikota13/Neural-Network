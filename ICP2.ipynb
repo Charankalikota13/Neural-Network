{
  "nbformat": 4,
  "nbformat_minor": 0,
  "metadata": {
    "colab": {
      "provenance": [],
      "toc_visible": true,
      "mount_file_id": "19fZFCMopFwKWZPJy4Xv59vHke3r_Vlo0",
      "authorship_tag": "ABX9TyPTGZq7kOluo08ak2mCRFpi",
      "include_colab_link": true
    },
    "kernelspec": {
      "name": "python3",
      "display_name": "Python 3"
    },
    "language_info": {
      "name": "python"
    }
  },
  "cells": [
    {
      "cell_type": "markdown",
      "metadata": {
        "id": "view-in-github",
        "colab_type": "text"
      },
      "source": [
        "<a href=\"https://colab.research.google.com/github/Charankalikota13/Neural-Network/blob/main/ICP2.ipynb\" target=\"_parent\"><img src=\"https://colab.research.google.com/assets/colab-badge.svg\" alt=\"Open In Colab\"/></a>"
      ]
    },
    {
      "cell_type": "code",
      "source": [
        "def fullname(first_name, last_name):\n",
        "    full_name = first_name + \" \" + last_name\n",
        "    return full_name\n",
        "\n",
        "def string_alternative(full_name):\n",
        "    return full_name[::2]\n",
        "\n",
        "# Getting input from the user\n",
        "first_name = input(\"Enter your first name: \")\n",
        "last_name = input(\"Enter your last name: \")\n",
        "\n",
        "# Calling the fullname function to get the full name\n",
        "name = fullname(first_name, last_name)\n",
        "\n",
        "# Printing the full name\n",
        "print(\"Your full name is:\", name)\n",
        "\n",
        "# Getting every other character in the full name\n",
        "alternating_chars = string_alternative(name)\n",
        "print(\"Every other character in your full name is:\", alternating_chars)"
      ],
      "metadata": {
        "colab": {
          "base_uri": "https://localhost:8080/"
        },
        "id": "fACy9ijF5TEs",
        "outputId": "174edb6b-1e82-4f2f-eae6-50cd10b0a70b"
      },
      "execution_count": null,
      "outputs": [
        {
          "output_type": "stream",
          "name": "stdout",
          "text": [
            "Enter your first name: saicharan\n",
            "Enter your last name: kalikota\n",
            "Your full name is: saicharan kalikota\n",
            "Every other character in your full name is: sihrnklkt\n"
          ]
        }
      ]
    },
    {
      "cell_type": "code",
      "source": [
        "file1 =open('/Wordcount.py','r')\n",
        "counts=dict()\n",
        "data = file1.read()\n",
        "words = data.split()\n",
        "for word in words:\n",
        "  if word in counts:\n",
        "    counts[word] +=1\n",
        "  else:\n",
        "    counts[word] = 1\n",
        "print(counts)\n",
        "\n",
        "f=open('output.txt','w')\n",
        "f.write(data)\n",
        "f.write(\"\\nword_count:\\n\")\n",
        "for key, value in counts.items():\n",
        "  f.write(f\"{key}:{value}\\n\")\n",
        "f.close()"
      ],
      "metadata": {
        "colab": {
          "base_uri": "https://localhost:8080/"
        },
        "id": "Zjlvha0X5bgj",
        "outputId": "8646fc6e-477c-4a23-965a-d193aa56e2e5"
      },
      "execution_count": null,
      "outputs": [
        {
          "output_type": "stream",
          "name": "stdout",
          "text": [
            "{'Python': 1, 'Course': 2, 'Deep': 1, 'Learning': 1}\n"
          ]
        }
      ]
    },
    {
      "cell_type": "code",
      "source": [
        "def inches_to_cm(height_inches):\n",
        "    return height_inches * 2.54\n",
        "\n",
        "# Input list of heights in inches\n",
        "heights_inches = []\n",
        "num_customers = int(input(\"Enter the number of customers: \"))\n",
        "\n",
        "for i in range(num_customers):\n",
        "    height = float(input(f\"Enter height of customer {i+1} (in inches): \"))\n",
        "    heights_inches.append(height)\n",
        "\n",
        "# Using nested loop to convert heights to centimeters\n",
        "heights_cm_nested = []\n",
        "for height in heights_inches:\n",
        "    height_cm = inches_to_cm(height)\n",
        "    heights_cm_nested.append(round(height_cm, 2))\n",
        "\n",
        "# Print the original heights in inches\n",
        "print(\"Heights in inches:\", heights_inches)\n",
        "\n",
        "# Print the converted heights in centimeters\n",
        "print(\"Heights in centimeters (using nested loop):\", heights_cm_nested)"
      ],
      "metadata": {
        "colab": {
          "base_uri": "https://localhost:8080/"
        },
        "id": "YyTDObZz5pky",
        "outputId": "7f8fdfad-93b3-4047-81e2-74341b5830a1"
      },
      "execution_count": null,
      "outputs": [
        {
          "output_type": "stream",
          "name": "stdout",
          "text": [
            "Enter the number of customers: 2\n",
            "Enter height of customer 1 (in inches): 11\n",
            "Enter height of customer 2 (in inches): 22\n",
            "Heights in inches: [11.0, 22.0]\n",
            "Heights in centimeters (using nested loop): [27.94, 55.88]\n"
          ]
        }
      ]
    },
    {
      "cell_type": "code",
      "source": [
        "heights_inches = []\n",
        "num_customers = int(input(\"Enter the number of customers: \"))\n",
        "\n",
        "for i in range(num_customers):\n",
        "    height = float(input(f\"Enter height of customer {i+1} (in inches): \"))\n",
        "    heights_inches.append(height)\n",
        "\n",
        "# List comprehension to convert heights to centimeters\n",
        "heights_cm_comprehension = [round(inches_to_cm(height), 2) for height in heights_inches]\n",
        "\n",
        "# Print the original heights in inches\n",
        "print(\"Heights in inches:\", heights_inches)\n",
        "\n",
        "# Print the converted heights in centimeters\n",
        "print(\"Heights in centimeters (using list comprehension):\", heights_cm_comprehension)"
      ],
      "metadata": {
        "colab": {
          "base_uri": "https://localhost:8080/"
        },
        "id": "ml6yuENK53Wi",
        "outputId": "03a338ec-acd3-4095-e6bd-8fdd161528b2"
      },
      "execution_count": null,
      "outputs": [
        {
          "output_type": "stream",
          "name": "stdout",
          "text": [
            "Enter the number of customers: 2\n",
            "Enter height of customer 1 (in inches): 11\n",
            "Enter height of customer 2 (in inches): 22\n",
            "Heights in inches: [11.0, 22.0]\n",
            "Heights in centimeters (using list comprehension): [27.94, 55.88]\n"
          ]
        }
      ]
    }
  ]
}