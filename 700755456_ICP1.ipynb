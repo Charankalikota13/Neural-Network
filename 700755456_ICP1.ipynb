{
  "nbformat": 4,
  "nbformat_minor": 0,
  "metadata": {
    "colab": {
      "provenance": [],
      "authorship_tag": "ABX9TyN8wPNXBvJxKYcB8dD165NB",
      "include_colab_link": true
    },
    "kernelspec": {
      "name": "python3",
      "display_name": "Python 3"
    },
    "language_info": {
      "name": "python"
    }
  },
  "cells": [
    {
      "cell_type": "markdown",
      "metadata": {
        "id": "view-in-github",
        "colab_type": "text"
      },
      "source": [
        "<a href=\"https://colab.research.google.com/github/Charankalikota13/Neural-Network/blob/main/700755456_ICP1.ipynb\" target=\"_parent\"><img src=\"https://colab.research.google.com/assets/colab-badge.svg\" alt=\"Open In Colab\"/></a>"
      ]
    },
    {
      "cell_type": "code",
      "source": [
        "new_list = list(input(\"Enter the string: \"))\n",
        "if len(new_list) >=2:\n",
        "   del new_list[:2]\n",
        "\n",
        "rev_string = new_list[::-1]\n",
        "print (\"\".join(rev_string))\n"
      ],
      "metadata": {
        "colab": {
          "base_uri": "https://localhost:8080/"
        },
        "id": "GJwUYHXFMjaj",
        "outputId": "1b22f4b8-4d5e-45fb-b590-2fd7bd941fae"
      },
      "execution_count": null,
      "outputs": [
        {
          "output_type": "stream",
          "name": "stdout",
          "text": [
            "Enter the string: python\n",
            "noht\n"
          ]
        }
      ]
    },
    {
      "cell_type": "code",
      "source": [
        "input_sentence = input(\"Enter a sentence: \")\n",
        "modified_sentence = input_sentence.replace('python', 'pythons')\n",
        "print(\"Modified sentence:\", modified_sentence)"
      ],
      "metadata": {
        "colab": {
          "base_uri": "https://localhost:8080/"
        },
        "id": "pZOTTbhPN71b",
        "outputId": "4cf91aac-33e3-4eb3-a977-285e0e6e6ce9"
      },
      "execution_count": null,
      "outputs": [
        {
          "output_type": "stream",
          "name": "stdout",
          "text": [
            "Enter a sentence: I love playing with python\n",
            "Modified sentence: I love playing with pythons\n"
          ]
        }
      ]
    },
    {
      "cell_type": "code",
      "source": [
        "cl_scr = int(input(\"Enter your class score: \"))\n",
        "if 90 <= cl_scr <= 100:\n",
        "\n",
        "    grade = 'A'\n",
        "elif 80 <= cl_scr < 90:\n",
        "    grade = 'B'\n",
        "elif 70 <= cl_scr < 80:\n",
        "    grade = 'C'\n",
        "elif 60 <= cl_scr < 70:\n",
        "    grade = 'D'\n",
        "elif 50 <= cl_scr < 60:\n",
        "    grade = 'F'\n",
        "else:\n",
        "    grade = 'Invalid score'\n",
        "print(\"The grade is:\", grade)"
      ],
      "metadata": {
        "colab": {
          "base_uri": "https://localhost:8080/"
        },
        "id": "SmM-TiStOR4K",
        "outputId": "aeecdf97-982d-4c14-e309-c1b9b8e72ac6"
      },
      "execution_count": null,
      "outputs": [
        {
          "output_type": "stream",
          "name": "stdout",
          "text": [
            "Enter your class score: 90\n",
            "The grade is: A\n"
          ]
        }
      ]
    }
  ]
}